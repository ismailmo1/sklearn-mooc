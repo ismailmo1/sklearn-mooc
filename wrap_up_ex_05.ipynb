{
 "cells": [
  {
   "cell_type": "code",
   "execution_count": 1,
   "metadata": {},
   "outputs": [],
   "source": [
    "import pandas as pd\n",
    "\n",
    "ames_housing = pd.read_csv(\"../datasets/ames_housing_no_missing.csv\")\n",
    "target_name = \"SalePrice\"\n",
    "data = ames_housing.drop(columns=target_name)\n",
    "target = ames_housing[target_name]\n",
    "\n",
    "numerical_features = [\n",
    "    \"LotFrontage\", \"LotArea\", \"MasVnrArea\", \"BsmtFinSF1\", \"BsmtFinSF2\",\n",
    "    \"BsmtUnfSF\", \"TotalBsmtSF\", \"1stFlrSF\", \"2ndFlrSF\", \"LowQualFinSF\",\n",
    "    \"GrLivArea\", \"BedroomAbvGr\", \"KitchenAbvGr\", \"TotRmsAbvGrd\", \"Fireplaces\",\n",
    "    \"GarageCars\", \"GarageArea\", \"WoodDeckSF\", \"OpenPorchSF\", \"EnclosedPorch\",\n",
    "    \"3SsnPorch\", \"ScreenPorch\", \"PoolArea\", \"MiscVal\",\n",
    "]\n",
    "\n",
    "data_numerical = data[numerical_features]"
   ]
  },
  {
   "cell_type": "code",
   "execution_count": 5,
   "metadata": {},
   "outputs": [],
   "source": [
    "from sklearn.linear_model import LinearRegression\n",
    "from sklearn.tree import DecisionTreeRegressor\n",
    "from sklearn.preprocessing import StandardScaler\n",
    "from sklearn.pipeline import make_pipeline\n",
    "from sklearn.model_selection import cross_validate\n",
    "\n",
    "tree_model = DecisionTreeRegressor()\n",
    "lin_model = make_pipeline(StandardScaler(), LinearRegression())\n",
    "\n",
    "tree_cv = cross_validate(tree_model, data_numerical, target, cv=10)\n",
    "lin_cv = cross_validate(lin_model, data_numerical, target, cv=10)"
   ]
  },
  {
   "cell_type": "code",
   "execution_count": 6,
   "metadata": {},
   "outputs": [
    {
     "name": "stdout",
     "output_type": "stream",
     "text": [
      "linear model performs better on 9/10 folds \n"
     ]
    }
   ],
   "source": [
    "lin_model_wins = sum([dif>0 for dif in list(lin_cv['test_score'] - tree_cv['test_score'])])\n",
    "\n",
    "print(f\"linear model performs better on {lin_model_wins}/10 folds \")"
   ]
  },
  {
   "cell_type": "code",
   "execution_count": 14,
   "metadata": {},
   "outputs": [],
   "source": [
    "from sklearn.model_selection import GridSearchCV\n",
    "\n",
    "\n",
    "params = {'max_depth':list(range(1,16))}\n",
    "tree_model_grid = cross_validate(GridSearchCV(DecisionTreeRegressor(), params, cv=10),  data_numerical, target, cv=10, return_estimator=True)"
   ]
  },
  {
   "cell_type": "code",
   "execution_count": 32,
   "metadata": {},
   "outputs": [
    {
     "data": {
      "image/png": "[encoded data removed]",
      "text/plain": [
       "<Figure size 432x288 with 1 Axes>"
      ]
     },
     "metadata": {
      "needs_background": "light"
     },
     "output_type": "display_data"
    }
   ],
   "source": [
    "ax = pd.Series([model.best_params_['max_depth'] for model in tree_model_grid['estimator']]).hist()\n",
    "\n",
    "_ = ax.set_title('optimal max depth')\n",
    "_ = ax.set_xlabel('max_depth')\n",
    "_ = ax.set_ylabel('num_models')"
   ]
  },
  {
   "cell_type": "code",
   "execution_count": 37,
   "metadata": {},
   "outputs": [
    {
     "name": "stdout",
     "output_type": "stream",
     "text": [
      "linear model performs better on 8/10 folds \n",
      "linear model performs better on 8/10 folds \n",
      "linear model performs better on 8/10 folds \n",
      "linear model performs better on 8/10 folds \n",
      "linear model performs better on 9/10 folds \n",
      "linear model performs better on 8/10 folds \n"
     ]
    }
   ],
   "source": [
    "for i in range(0,6):\n",
    "    tree_model_grid = cross_validate(GridSearchCV(DecisionTreeRegressor(random_state=i), params, cv=10),  data_numerical, target, cv=10, return_estimator=True, n_jobs=-1)\n",
    "    lin_model_wins = sum([dif>0 for dif in list(lin_cv['test_score'] - tree_model_grid['test_score'])])\n",
    "    print(f\"linear model performs better on {lin_model_wins}/10 folds \")"
   ]
  },
  {
   "cell_type": "code",
   "execution_count": 51,
   "metadata": {},
   "outputs": [
    {
     "name": "stdout",
     "output_type": "stream",
     "text": [
      "model with all data performs better on 9/10 folds \n"
     ]
    }
   ],
   "source": [
    "from sklearn.compose import ColumnTransformer, make_column_selector\n",
    "from sklearn.preprocessing import OrdinalEncoder\n",
    "\n",
    "categorical_selector = make_column_selector(dtype_include=object)\n",
    "numerical_selector = make_column_selector(dtype_exclude=object)\n",
    "\n",
    "categorical_columns = categorical_selector(data)\n",
    "numerical_columns = numerical_selector(data)\n",
    "\n",
    "preprocessor = ColumnTransformer([('ordinal-encoder', OrdinalEncoder(handle_unknown= 'use_encoded_value', unknown_value=-1), categorical_columns),(\"passthrough\",\"passthrough\", numerical_columns)])\n",
    "\n",
    "model = make_pipeline(preprocessor, DecisionTreeRegressor(max_depth=7))\n",
    "\n",
    "cv_results_all_cols = cross_validate(model, data, target, cv=10)\n",
    "\n",
    "\n",
    "all_cols_model_wins = sum([dif>0 for dif in list(cv_results_all_cols['test_score'] - tree_model_grid['test_score'])])\n",
    "print(f\"model with all data performs better on {all_cols_model_wins}/10 folds \")"
   ]
  }
 ],
 "metadata": {
  "interpreter": {
   "hash": "8a45449b750672ad458079aa0732cf0162efde481453de1f5ed812f43402b05f"
  },
  "kernelspec": {
   "display_name": "Python 3.10.2 ('scikit-learn-course')",
   "language": "python",
   "name": "python3"
  },
  "language_info": {
   "codemirror_mode": {
    "name": "ipython",
    "version": 3
   },
   "file_extension": ".py",
   "mimetype": "text/x-python",
   "name": "python",
   "nbconvert_exporter": "python",
   "pygments_lexer": "ipython3",
   "version": "3.10.2"
  },
  "orig_nbformat": 4
 },
 "nbformat": 4,
 "nbformat_minor": 2
}
