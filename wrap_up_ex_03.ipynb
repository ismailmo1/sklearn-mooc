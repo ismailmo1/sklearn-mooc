{
 "cells": [
  {
   "cell_type": "code",
   "execution_count": 1,
   "metadata": {},
   "outputs": [],
   "source": [
    "import pandas as pd\n",
    "\n",
    "penguins = pd.read_csv(\"../datasets/penguins.csv\")\n",
    "\n",
    "columns = [\"Body Mass (g)\", \"Flipper Length (mm)\", \"Culmen Length (mm)\"]\n",
    "target_name = \"Species\"\n",
    "\n",
    "# Remove lines with missing values for the columns of interest\n",
    "penguins_non_missing = penguins[columns + [target_name]].dropna()\n",
    "\n",
    "data = penguins_non_missing[columns]\n",
    "target = penguins_non_missing[target_name]"
   ]
  },
  {
   "cell_type": "markdown",
   "metadata": {},
   "source": [
    "Multiclassification problem with 3 species of penguin - but the classes are imbalanced (Chinstrap penguin has ~1/2 samples compared to others)"
   ]
  },
  {
   "cell_type": "code",
   "execution_count": 4,
   "metadata": {},
   "outputs": [
    {
     "data": {
      "text/plain": [
       "Adelie Penguin (Pygoscelis adeliae)          151\n",
       "Gentoo penguin (Pygoscelis papua)            123\n",
       "Chinstrap penguin (Pygoscelis antarctica)     68\n",
       "Name: Species, dtype: int64"
      ]
     },
     "execution_count": 4,
     "metadata": {},
     "output_type": "execute_result"
    }
   ],
   "source": [
    "target.value_counts()"
   ]
  },
  {
   "cell_type": "markdown",
   "metadata": {},
   "source": [
    "Input features need scaling"
   ]
  },
  {
   "cell_type": "code",
   "execution_count": 6,
   "metadata": {},
   "outputs": [
    {
     "data": {
      "text/html": [
       "<div>\n",
       "<style scoped>\n",
       "    .dataframe tbody tr th:only-of-type {\n",
       "        vertical-align: middle;\n",
       "    }\n",
       "\n",
       "    .dataframe tbody tr th {\n",
       "        vertical-align: top;\n",
       "    }\n",
       "\n",
       "    .dataframe thead th {\n",
       "        text-align: right;\n",
       "    }\n",
       "</style>\n",
       "<table border=\"1\" class=\"dataframe\">\n",
       "  <thead>\n",
       "    <tr style=\"text-align: right;\">\n",
       "      <th></th>\n",
       "      <th>Body Mass (g)</th>\n",
       "      <th>Flipper Length (mm)</th>\n",
       "      <th>Culmen Length (mm)</th>\n",
       "    </tr>\n",
       "  </thead>\n",
       "  <tbody>\n",
       "    <tr>\n",
       "      <th>count</th>\n",
       "      <td>342.000000</td>\n",
       "      <td>342.000000</td>\n",
       "      <td>342.000000</td>\n",
       "    </tr>\n",
       "    <tr>\n",
       "      <th>mean</th>\n",
       "      <td>4201.754386</td>\n",
       "      <td>200.915205</td>\n",
       "      <td>43.921930</td>\n",
       "    </tr>\n",
       "    <tr>\n",
       "      <th>std</th>\n",
       "      <td>801.954536</td>\n",
       "      <td>14.061714</td>\n",
       "      <td>5.459584</td>\n",
       "    </tr>\n",
       "    <tr>\n",
       "      <th>min</th>\n",
       "      <td>2700.000000</td>\n",
       "      <td>172.000000</td>\n",
       "      <td>32.100000</td>\n",
       "    </tr>\n",
       "    <tr>\n",
       "      <th>25%</th>\n",
       "      <td>3550.000000</td>\n",
       "      <td>190.000000</td>\n",
       "      <td>39.225000</td>\n",
       "    </tr>\n",
       "    <tr>\n",
       "      <th>50%</th>\n",
       "      <td>4050.000000</td>\n",
       "      <td>197.000000</td>\n",
       "      <td>44.450000</td>\n",
       "    </tr>\n",
       "    <tr>\n",
       "      <th>75%</th>\n",
       "      <td>4750.000000</td>\n",
       "      <td>213.000000</td>\n",
       "      <td>48.500000</td>\n",
       "    </tr>\n",
       "    <tr>\n",
       "      <th>max</th>\n",
       "      <td>6300.000000</td>\n",
       "      <td>231.000000</td>\n",
       "      <td>59.600000</td>\n",
       "    </tr>\n",
       "  </tbody>\n",
       "</table>\n",
       "</div>"
      ],
      "text/plain": [
       "       Body Mass (g)  Flipper Length (mm)  Culmen Length (mm)\n",
       "count     342.000000           342.000000          342.000000\n",
       "mean     4201.754386           200.915205           43.921930\n",
       "std       801.954536            14.061714            5.459584\n",
       "min      2700.000000           172.000000           32.100000\n",
       "25%      3550.000000           190.000000           39.225000\n",
       "50%      4050.000000           197.000000           44.450000\n",
       "75%      4750.000000           213.000000           48.500000\n",
       "max      6300.000000           231.000000           59.600000"
      ]
     },
     "execution_count": 6,
     "metadata": {},
     "output_type": "execute_result"
    }
   ],
   "source": [
    "data.describe()"
   ]
  },
  {
   "cell_type": "code",
   "execution_count": 7,
   "metadata": {},
   "outputs": [],
   "source": [
    "from sklearn.neighbors import KNeighborsClassifier\n",
    "from sklearn.preprocessing import StandardScaler\n",
    "from sklearn.pipeline import Pipeline\n",
    "\n",
    "model = Pipeline(steps=[\n",
    "    (\"preprocessor\", StandardScaler()),\n",
    "    (\"classifier\", KNeighborsClassifier(n_neighbors=5)),\n",
    "])"
   ]
  },
  {
   "cell_type": "code",
   "execution_count": 9,
   "metadata": {},
   "outputs": [],
   "source": [
    "from sklearn.model_selection import cross_validate\n",
    "\n",
    "results = cross_validate(model, data, target, cv=10, scoring='balanced_accuracy')"
   ]
  },
  {
   "cell_type": "code",
   "execution_count": 11,
   "metadata": {},
   "outputs": [
    {
     "data": {
      "text/plain": [
       "0.9521978021978021"
      ]
     },
     "execution_count": 11,
     "metadata": {},
     "output_type": "execute_result"
    }
   ],
   "source": [
    "results['test_score'].mean()"
   ]
  },
  {
   "cell_type": "code",
   "execution_count": 12,
   "metadata": {},
   "outputs": [
    {
     "data": {
      "text/plain": [
       "{'memory': None,\n",
       " 'steps': [('preprocessor', StandardScaler()),\n",
       "  ('classifier', KNeighborsClassifier())],\n",
       " 'verbose': False,\n",
       " 'preprocessor': StandardScaler(),\n",
       " 'classifier': KNeighborsClassifier(),\n",
       " 'preprocessor__copy': True,\n",
       " 'preprocessor__with_mean': True,\n",
       " 'preprocessor__with_std': True,\n",
       " 'classifier__algorithm': 'auto',\n",
       " 'classifier__leaf_size': 30,\n",
       " 'classifier__metric': 'minkowski',\n",
       " 'classifier__metric_params': None,\n",
       " 'classifier__n_jobs': None,\n",
       " 'classifier__n_neighbors': 5,\n",
       " 'classifier__p': 2,\n",
       " 'classifier__weights': 'uniform'}"
      ]
     },
     "execution_count": 12,
     "metadata": {},
     "output_type": "execute_result"
    }
   ],
   "source": [
    "model.get_params()"
   ]
  },
  {
   "cell_type": "code",
   "execution_count": 14,
   "metadata": {},
   "outputs": [],
   "source": [
    "model.set_params(classifier__n_neighbors = 5)\n",
    "results_5nn = cross_validate(model, data, target, cv=10, scoring='balanced_accuracy')"
   ]
  },
  {
   "cell_type": "code",
   "execution_count": 17,
   "metadata": {},
   "outputs": [],
   "source": [
    "model.set_params(classifier__n_neighbors = 51)\n",
    "results_51nn = cross_validate(model, data, target, cv=10, scoring='balanced_accuracy')\n",
    "\n",
    "model.set_params(classifier__n_neighbors = 101)\n",
    "results_101nn = cross_validate(model, data, target, cv=10, scoring='balanced_accuracy')\n",
    "\n",
    "model.set_params(classifier__n_neighbors = 5,  preprocessor__with_mean= False,\n",
    " preprocessor__with_std= False)\n",
    "results_5nn_no_scale = cross_validate(model, data, target, cv=10, scoring='balanced_accuracy')\n"
   ]
  },
  {
   "cell_type": "markdown",
   "metadata": {},
   "source": [
    "\n",
    "Evaluating models"
   ]
  },
  {
   "cell_type": "code",
   "execution_count": 26,
   "metadata": {},
   "outputs": [
    {
     "name": "stdout",
     "output_type": "stream",
     "text": [
      "4/10 test scores higher for 5nn vs 51nn\n"
     ]
    }
   ],
   "source": [
    "print(f\"{sum([i>0 for i in results_5nn['test_score'] - results_51nn['test_score']])}\" \n",
    "\"/10 test scores higher for 5nn vs 51nn\")"
   ]
  },
  {
   "cell_type": "code",
   "execution_count": 27,
   "metadata": {},
   "outputs": [
    {
     "name": "stdout",
     "output_type": "stream",
     "text": [
      "10/10 test scores higher for 5nn vs 51nn\n"
     ]
    }
   ],
   "source": [
    "print(f\"{sum([i>0 for i in results_5nn['test_score'] - results_101nn['test_score']])}\" \n",
    "\"/10 test scores higher for 5nn vs 101nn\")"
   ]
  },
  {
   "cell_type": "code",
   "execution_count": 29,
   "metadata": {},
   "outputs": [
    {
     "name": "stdout",
     "output_type": "stream",
     "text": [
      "10/10 test scores higher for 5nn scaled vs 5nn raw\n"
     ]
    }
   ],
   "source": [
    "print(f\"{sum([i>0 for i in results_5nn['test_score'] - results_5nn_no_scale['test_score']])}\" \n",
    "\"/10 test scores higher for 5nn scaled vs 5nn raw\")"
   ]
  },
  {
   "cell_type": "code",
   "execution_count": 30,
   "metadata": {},
   "outputs": [],
   "source": [
    "from sklearn.preprocessing import MinMaxScaler\n",
    "from sklearn.preprocessing import QuantileTransformer\n",
    "from sklearn.preprocessing import PowerTransformer\n",
    "\n",
    "\n",
    "all_preprocessors = [\n",
    "    None,\n",
    "    StandardScaler(),\n",
    "    MinMaxScaler(),\n",
    "    QuantileTransformer(n_quantiles=100),\n",
    "    PowerTransformer(method=\"box-cox\"),\n",
    "]"
   ]
  },
  {
   "cell_type": "code",
   "execution_count": 31,
   "metadata": {},
   "outputs": [],
   "source": [
    "from sklearn.model_selection import GridSearchCV\n",
    "\n",
    "n_neighbour_params = [5,51,101]\n",
    "\n",
    "param_grid = {'preprocessor' : all_preprocessors, \n",
    "                'classifier__n_neighbors': n_neighbour_params}\n",
    "\n",
    "model_grid_search = GridSearchCV(model, param_grid=param_grid, \n",
    "                                n_jobs=-1, \n",
    "                                cv=10, \n",
    "                                scoring='balanced_accuracy')"
   ]
  },
  {
   "cell_type": "code",
   "execution_count": 32,
   "metadata": {},
   "outputs": [
    {
     "data": {
      "text/plain": [
       "GridSearchCV(cv=10,\n",
       "             estimator=Pipeline(steps=[('preprocessor',\n",
       "                                        StandardScaler(with_mean=False,\n",
       "                                                       with_std=False)),\n",
       "                                       ('classifier', KNeighborsClassifier())]),\n",
       "             n_jobs=-1,\n",
       "             param_grid={'classifier__n_neighbors': [5, 51, 101],\n",
       "                         'preprocessor': [None, StandardScaler(),\n",
       "                                          MinMaxScaler(),\n",
       "                                          QuantileTransformer(n_quantiles=100),\n",
       "                                          PowerTransformer(method='box-cox')]},\n",
       "             scoring='balanced_accuracy')"
      ]
     },
     "execution_count": 32,
     "metadata": {},
     "output_type": "execute_result"
    }
   ],
   "source": [
    "model_grid_search.fit(data, target)"
   ]
  },
  {
   "cell_type": "code",
   "execution_count": 37,
   "metadata": {},
   "outputs": [],
   "source": [
    "results_df = pd.DataFrame(model_grid_search.cv_results_)"
   ]
  },
  {
   "cell_type": "code",
   "execution_count": 39,
   "metadata": {},
   "outputs": [
    {
     "data": {
      "text/html": [
       "<div>\n",
       "<style scoped>\n",
       "    .dataframe tbody tr th:only-of-type {\n",
       "        vertical-align: middle;\n",
       "    }\n",
       "\n",
       "    .dataframe tbody tr th {\n",
       "        vertical-align: top;\n",
       "    }\n",
       "\n",
       "    .dataframe thead th {\n",
       "        text-align: right;\n",
       "    }\n",
       "</style>\n",
       "<table border=\"1\" class=\"dataframe\">\n",
       "  <thead>\n",
       "    <tr style=\"text-align: right;\">\n",
       "      <th></th>\n",
       "      <th>mean_fit_time</th>\n",
       "      <th>std_fit_time</th>\n",
       "      <th>mean_score_time</th>\n",
       "      <th>std_score_time</th>\n",
       "      <th>param_classifier__n_neighbors</th>\n",
       "      <th>param_preprocessor</th>\n",
       "      <th>params</th>\n",
       "      <th>split0_test_score</th>\n",
       "      <th>split1_test_score</th>\n",
       "      <th>split2_test_score</th>\n",
       "      <th>split3_test_score</th>\n",
       "      <th>split4_test_score</th>\n",
       "      <th>split5_test_score</th>\n",
       "      <th>split6_test_score</th>\n",
       "      <th>split7_test_score</th>\n",
       "      <th>split8_test_score</th>\n",
       "      <th>split9_test_score</th>\n",
       "      <th>mean_test_score</th>\n",
       "      <th>std_test_score</th>\n",
       "      <th>rank_test_score</th>\n",
       "    </tr>\n",
       "  </thead>\n",
       "  <tbody>\n",
       "    <tr>\n",
       "      <th>1</th>\n",
       "      <td>0.008198</td>\n",
       "      <td>0.003805</td>\n",
       "      <td>0.011364</td>\n",
       "      <td>0.009257</td>\n",
       "      <td>5</td>\n",
       "      <td>StandardScaler()</td>\n",
       "      <td>{'classifier__n_neighbors': 5, 'preprocessor':...</td>\n",
       "      <td>1.000000</td>\n",
       "      <td>1.000000</td>\n",
       "      <td>1.000000</td>\n",
       "      <td>0.918803</td>\n",
       "      <td>0.882540</td>\n",
       "      <td>0.952381</td>\n",
       "      <td>0.977778</td>\n",
       "      <td>0.930159</td>\n",
       "      <td>0.907937</td>\n",
       "      <td>0.952381</td>\n",
       "      <td>0.952198</td>\n",
       "      <td>0.039902</td>\n",
       "      <td>1</td>\n",
       "    </tr>\n",
       "    <tr>\n",
       "      <th>2</th>\n",
       "      <td>0.008710</td>\n",
       "      <td>0.004947</td>\n",
       "      <td>0.009225</td>\n",
       "      <td>0.002345</td>\n",
       "      <td>5</td>\n",
       "      <td>MinMaxScaler()</td>\n",
       "      <td>{'classifier__n_neighbors': 5, 'preprocessor':...</td>\n",
       "      <td>1.000000</td>\n",
       "      <td>0.952381</td>\n",
       "      <td>1.000000</td>\n",
       "      <td>0.944444</td>\n",
       "      <td>0.882540</td>\n",
       "      <td>0.930159</td>\n",
       "      <td>0.955556</td>\n",
       "      <td>0.952381</td>\n",
       "      <td>0.907937</td>\n",
       "      <td>0.952381</td>\n",
       "      <td>0.947778</td>\n",
       "      <td>0.034268</td>\n",
       "      <td>2</td>\n",
       "    </tr>\n",
       "    <tr>\n",
       "      <th>3</th>\n",
       "      <td>0.012802</td>\n",
       "      <td>0.008006</td>\n",
       "      <td>0.008811</td>\n",
       "      <td>0.001337</td>\n",
       "      <td>5</td>\n",
       "      <td>QuantileTransformer(n_quantiles=100)</td>\n",
       "      <td>{'classifier__n_neighbors': 5, 'preprocessor':...</td>\n",
       "      <td>0.952381</td>\n",
       "      <td>0.926740</td>\n",
       "      <td>1.000000</td>\n",
       "      <td>0.918803</td>\n",
       "      <td>0.904762</td>\n",
       "      <td>1.000000</td>\n",
       "      <td>0.977778</td>\n",
       "      <td>0.930159</td>\n",
       "      <td>0.907937</td>\n",
       "      <td>0.952381</td>\n",
       "      <td>0.947094</td>\n",
       "      <td>0.033797</td>\n",
       "      <td>3</td>\n",
       "    </tr>\n",
       "    <tr>\n",
       "      <th>4</th>\n",
       "      <td>0.024206</td>\n",
       "      <td>0.005899</td>\n",
       "      <td>0.010977</td>\n",
       "      <td>0.006827</td>\n",
       "      <td>5</td>\n",
       "      <td>PowerTransformer(method='box-cox')</td>\n",
       "      <td>{'classifier__n_neighbors': 5, 'preprocessor':...</td>\n",
       "      <td>1.000000</td>\n",
       "      <td>0.977778</td>\n",
       "      <td>1.000000</td>\n",
       "      <td>0.863248</td>\n",
       "      <td>0.882540</td>\n",
       "      <td>0.952381</td>\n",
       "      <td>0.955556</td>\n",
       "      <td>0.930159</td>\n",
       "      <td>0.907937</td>\n",
       "      <td>1.000000</td>\n",
       "      <td>0.946960</td>\n",
       "      <td>0.047387</td>\n",
       "      <td>4</td>\n",
       "    </tr>\n",
       "    <tr>\n",
       "      <th>6</th>\n",
       "      <td>0.008265</td>\n",
       "      <td>0.002750</td>\n",
       "      <td>0.009316</td>\n",
       "      <td>0.000945</td>\n",
       "      <td>51</td>\n",
       "      <td>StandardScaler()</td>\n",
       "      <td>{'classifier__n_neighbors': 51, 'preprocessor'...</td>\n",
       "      <td>0.952381</td>\n",
       "      <td>0.977778</td>\n",
       "      <td>1.000000</td>\n",
       "      <td>0.863248</td>\n",
       "      <td>0.882540</td>\n",
       "      <td>0.952381</td>\n",
       "      <td>0.955556</td>\n",
       "      <td>0.952381</td>\n",
       "      <td>0.930159</td>\n",
       "      <td>0.952381</td>\n",
       "      <td>0.941880</td>\n",
       "      <td>0.038905</td>\n",
       "      <td>5</td>\n",
       "    </tr>\n",
       "    <tr>\n",
       "      <th>8</th>\n",
       "      <td>0.013446</td>\n",
       "      <td>0.005645</td>\n",
       "      <td>0.009221</td>\n",
       "      <td>0.001841</td>\n",
       "      <td>51</td>\n",
       "      <td>QuantileTransformer(n_quantiles=100)</td>\n",
       "      <td>{'classifier__n_neighbors': 51, 'preprocessor'...</td>\n",
       "      <td>0.857143</td>\n",
       "      <td>0.952381</td>\n",
       "      <td>1.000000</td>\n",
       "      <td>0.863248</td>\n",
       "      <td>0.904762</td>\n",
       "      <td>0.904762</td>\n",
       "      <td>0.977778</td>\n",
       "      <td>0.930159</td>\n",
       "      <td>0.930159</td>\n",
       "      <td>0.952381</td>\n",
       "      <td>0.927277</td>\n",
       "      <td>0.043759</td>\n",
       "      <td>6</td>\n",
       "    </tr>\n",
       "    <tr>\n",
       "      <th>9</th>\n",
       "      <td>0.023205</td>\n",
       "      <td>0.004059</td>\n",
       "      <td>0.009114</td>\n",
       "      <td>0.001047</td>\n",
       "      <td>51</td>\n",
       "      <td>PowerTransformer(method='box-cox')</td>\n",
       "      <td>{'classifier__n_neighbors': 51, 'preprocessor'...</td>\n",
       "      <td>0.904762</td>\n",
       "      <td>0.977778</td>\n",
       "      <td>1.000000</td>\n",
       "      <td>0.863248</td>\n",
       "      <td>0.834921</td>\n",
       "      <td>0.952381</td>\n",
       "      <td>0.907937</td>\n",
       "      <td>0.952381</td>\n",
       "      <td>0.930159</td>\n",
       "      <td>0.904762</td>\n",
       "      <td>0.922833</td>\n",
       "      <td>0.047883</td>\n",
       "      <td>7</td>\n",
       "    </tr>\n",
       "    <tr>\n",
       "      <th>7</th>\n",
       "      <td>0.009036</td>\n",
       "      <td>0.003372</td>\n",
       "      <td>0.011025</td>\n",
       "      <td>0.004838</td>\n",
       "      <td>51</td>\n",
       "      <td>MinMaxScaler()</td>\n",
       "      <td>{'classifier__n_neighbors': 51, 'preprocessor'...</td>\n",
       "      <td>0.904762</td>\n",
       "      <td>0.952381</td>\n",
       "      <td>1.000000</td>\n",
       "      <td>0.863248</td>\n",
       "      <td>0.834921</td>\n",
       "      <td>0.952381</td>\n",
       "      <td>0.907937</td>\n",
       "      <td>0.952381</td>\n",
       "      <td>0.930159</td>\n",
       "      <td>0.904762</td>\n",
       "      <td>0.920293</td>\n",
       "      <td>0.045516</td>\n",
       "      <td>8</td>\n",
       "    </tr>\n",
       "    <tr>\n",
       "      <th>11</th>\n",
       "      <td>0.007359</td>\n",
       "      <td>0.000709</td>\n",
       "      <td>0.009561</td>\n",
       "      <td>0.001182</td>\n",
       "      <td>101</td>\n",
       "      <td>StandardScaler()</td>\n",
       "      <td>{'classifier__n_neighbors': 101, 'preprocessor...</td>\n",
       "      <td>0.857143</td>\n",
       "      <td>0.952381</td>\n",
       "      <td>0.944444</td>\n",
       "      <td>0.863248</td>\n",
       "      <td>0.834921</td>\n",
       "      <td>0.857143</td>\n",
       "      <td>0.834921</td>\n",
       "      <td>0.882540</td>\n",
       "      <td>0.834921</td>\n",
       "      <td>0.904762</td>\n",
       "      <td>0.876642</td>\n",
       "      <td>0.041618</td>\n",
       "      <td>9</td>\n",
       "    </tr>\n",
       "    <tr>\n",
       "      <th>12</th>\n",
       "      <td>0.008583</td>\n",
       "      <td>0.003765</td>\n",
       "      <td>0.010590</td>\n",
       "      <td>0.002115</td>\n",
       "      <td>101</td>\n",
       "      <td>MinMaxScaler()</td>\n",
       "      <td>{'classifier__n_neighbors': 101, 'preprocessor...</td>\n",
       "      <td>0.857143</td>\n",
       "      <td>0.857143</td>\n",
       "      <td>0.944444</td>\n",
       "      <td>0.863248</td>\n",
       "      <td>0.834921</td>\n",
       "      <td>0.857143</td>\n",
       "      <td>0.765079</td>\n",
       "      <td>0.904762</td>\n",
       "      <td>0.834921</td>\n",
       "      <td>0.904762</td>\n",
       "      <td>0.862357</td>\n",
       "      <td>0.046244</td>\n",
       "      <td>10</td>\n",
       "    </tr>\n",
       "    <tr>\n",
       "      <th>14</th>\n",
       "      <td>0.021141</td>\n",
       "      <td>0.003077</td>\n",
       "      <td>0.008472</td>\n",
       "      <td>0.000972</td>\n",
       "      <td>101</td>\n",
       "      <td>PowerTransformer(method='box-cox')</td>\n",
       "      <td>{'classifier__n_neighbors': 101, 'preprocessor...</td>\n",
       "      <td>0.904762</td>\n",
       "      <td>0.904762</td>\n",
       "      <td>0.888889</td>\n",
       "      <td>0.888889</td>\n",
       "      <td>0.787302</td>\n",
       "      <td>0.809524</td>\n",
       "      <td>0.812698</td>\n",
       "      <td>0.882540</td>\n",
       "      <td>0.834921</td>\n",
       "      <td>0.857143</td>\n",
       "      <td>0.857143</td>\n",
       "      <td>0.041000</td>\n",
       "      <td>11</td>\n",
       "    </tr>\n",
       "    <tr>\n",
       "      <th>13</th>\n",
       "      <td>0.011909</td>\n",
       "      <td>0.003929</td>\n",
       "      <td>0.010818</td>\n",
       "      <td>0.001432</td>\n",
       "      <td>101</td>\n",
       "      <td>QuantileTransformer(n_quantiles=100)</td>\n",
       "      <td>{'classifier__n_neighbors': 101, 'preprocessor...</td>\n",
       "      <td>0.857143</td>\n",
       "      <td>0.857143</td>\n",
       "      <td>0.777778</td>\n",
       "      <td>0.863248</td>\n",
       "      <td>0.765079</td>\n",
       "      <td>0.812698</td>\n",
       "      <td>0.765079</td>\n",
       "      <td>0.834921</td>\n",
       "      <td>0.739683</td>\n",
       "      <td>0.857143</td>\n",
       "      <td>0.812991</td>\n",
       "      <td>0.044788</td>\n",
       "      <td>12</td>\n",
       "    </tr>\n",
       "    <tr>\n",
       "      <th>0</th>\n",
       "      <td>0.005196</td>\n",
       "      <td>0.000942</td>\n",
       "      <td>0.011483</td>\n",
       "      <td>0.006661</td>\n",
       "      <td>5</td>\n",
       "      <td>None</td>\n",
       "      <td>{'classifier__n_neighbors': 5, 'preprocessor':...</td>\n",
       "      <td>0.664683</td>\n",
       "      <td>0.736020</td>\n",
       "      <td>0.741026</td>\n",
       "      <td>0.704274</td>\n",
       "      <td>0.584127</td>\n",
       "      <td>0.669841</td>\n",
       "      <td>0.834921</td>\n",
       "      <td>0.742857</td>\n",
       "      <td>0.882540</td>\n",
       "      <td>0.838095</td>\n",
       "      <td>0.739838</td>\n",
       "      <td>0.086685</td>\n",
       "      <td>13</td>\n",
       "    </tr>\n",
       "    <tr>\n",
       "      <th>10</th>\n",
       "      <td>0.006524</td>\n",
       "      <td>0.001527</td>\n",
       "      <td>0.010697</td>\n",
       "      <td>0.004946</td>\n",
       "      <td>101</td>\n",
       "      <td>None</td>\n",
       "      <td>{'classifier__n_neighbors': 101, 'preprocessor...</td>\n",
       "      <td>0.618056</td>\n",
       "      <td>0.593162</td>\n",
       "      <td>0.574359</td>\n",
       "      <td>0.564103</td>\n",
       "      <td>0.588889</td>\n",
       "      <td>0.644444</td>\n",
       "      <td>0.622222</td>\n",
       "      <td>0.622222</td>\n",
       "      <td>0.644444</td>\n",
       "      <td>0.666667</td>\n",
       "      <td>0.613857</td>\n",
       "      <td>0.031472</td>\n",
       "      <td>14</td>\n",
       "    </tr>\n",
       "    <tr>\n",
       "      <th>5</th>\n",
       "      <td>0.005933</td>\n",
       "      <td>0.002345</td>\n",
       "      <td>0.008214</td>\n",
       "      <td>0.001057</td>\n",
       "      <td>51</td>\n",
       "      <td>None</td>\n",
       "      <td>{'classifier__n_neighbors': 51, 'preprocessor'...</td>\n",
       "      <td>0.618056</td>\n",
       "      <td>0.567521</td>\n",
       "      <td>0.596581</td>\n",
       "      <td>0.564103</td>\n",
       "      <td>0.533333</td>\n",
       "      <td>0.644444</td>\n",
       "      <td>0.622222</td>\n",
       "      <td>0.622222</td>\n",
       "      <td>0.644444</td>\n",
       "      <td>0.638889</td>\n",
       "      <td>0.605182</td>\n",
       "      <td>0.036480</td>\n",
       "      <td>15</td>\n",
       "    </tr>\n",
       "  </tbody>\n",
       "</table>\n",
       "</div>"
      ],
      "text/plain": [
       "    mean_fit_time  std_fit_time  mean_score_time  std_score_time  \\\n",
       "1        0.008198      0.003805         0.011364        0.009257   \n",
       "2        0.008710      0.004947         0.009225        0.002345   \n",
       "3        0.012802      0.008006         0.008811        0.001337   \n",
       "4        0.024206      0.005899         0.010977        0.006827   \n",
       "6        0.008265      0.002750         0.009316        0.000945   \n",
       "8        0.013446      0.005645         0.009221        0.001841   \n",
       "9        0.023205      0.004059         0.009114        0.001047   \n",
       "7        0.009036      0.003372         0.011025        0.004838   \n",
       "11       0.007359      0.000709         0.009561        0.001182   \n",
       "12       0.008583      0.003765         0.010590        0.002115   \n",
       "14       0.021141      0.003077         0.008472        0.000972   \n",
       "13       0.011909      0.003929         0.010818        0.001432   \n",
       "0        0.005196      0.000942         0.011483        0.006661   \n",
       "10       0.006524      0.001527         0.010697        0.004946   \n",
       "5        0.005933      0.002345         0.008214        0.001057   \n",
       "\n",
       "   param_classifier__n_neighbors                    param_preprocessor  \\\n",
       "1                              5                      StandardScaler()   \n",
       "2                              5                        MinMaxScaler()   \n",
       "3                              5  QuantileTransformer(n_quantiles=100)   \n",
       "4                              5    PowerTransformer(method='box-cox')   \n",
       "6                             51                      StandardScaler()   \n",
       "8                             51  QuantileTransformer(n_quantiles=100)   \n",
       "9                             51    PowerTransformer(method='box-cox')   \n",
       "7                             51                        MinMaxScaler()   \n",
       "11                           101                      StandardScaler()   \n",
       "12                           101                        MinMaxScaler()   \n",
       "14                           101    PowerTransformer(method='box-cox')   \n",
       "13                           101  QuantileTransformer(n_quantiles=100)   \n",
       "0                              5                                  None   \n",
       "10                           101                                  None   \n",
       "5                             51                                  None   \n",
       "\n",
       "                                               params  split0_test_score  \\\n",
       "1   {'classifier__n_neighbors': 5, 'preprocessor':...           1.000000   \n",
       "2   {'classifier__n_neighbors': 5, 'preprocessor':...           1.000000   \n",
       "3   {'classifier__n_neighbors': 5, 'preprocessor':...           0.952381   \n",
       "4   {'classifier__n_neighbors': 5, 'preprocessor':...           1.000000   \n",
       "6   {'classifier__n_neighbors': 51, 'preprocessor'...           0.952381   \n",
       "8   {'classifier__n_neighbors': 51, 'preprocessor'...           0.857143   \n",
       "9   {'classifier__n_neighbors': 51, 'preprocessor'...           0.904762   \n",
       "7   {'classifier__n_neighbors': 51, 'preprocessor'...           0.904762   \n",
       "11  {'classifier__n_neighbors': 101, 'preprocessor...           0.857143   \n",
       "12  {'classifier__n_neighbors': 101, 'preprocessor...           0.857143   \n",
       "14  {'classifier__n_neighbors': 101, 'preprocessor...           0.904762   \n",
       "13  {'classifier__n_neighbors': 101, 'preprocessor...           0.857143   \n",
       "0   {'classifier__n_neighbors': 5, 'preprocessor':...           0.664683   \n",
       "10  {'classifier__n_neighbors': 101, 'preprocessor...           0.618056   \n",
       "5   {'classifier__n_neighbors': 51, 'preprocessor'...           0.618056   \n",
       "\n",
       "    split1_test_score  split2_test_score  split3_test_score  \\\n",
       "1            1.000000           1.000000           0.918803   \n",
       "2            0.952381           1.000000           0.944444   \n",
       "3            0.926740           1.000000           0.918803   \n",
       "4            0.977778           1.000000           0.863248   \n",
       "6            0.977778           1.000000           0.863248   \n",
       "8            0.952381           1.000000           0.863248   \n",
       "9            0.977778           1.000000           0.863248   \n",
       "7            0.952381           1.000000           0.863248   \n",
       "11           0.952381           0.944444           0.863248   \n",
       "12           0.857143           0.944444           0.863248   \n",
       "14           0.904762           0.888889           0.888889   \n",
       "13           0.857143           0.777778           0.863248   \n",
       "0            0.736020           0.741026           0.704274   \n",
       "10           0.593162           0.574359           0.564103   \n",
       "5            0.567521           0.596581           0.564103   \n",
       "\n",
       "    split4_test_score  split5_test_score  split6_test_score  \\\n",
       "1            0.882540           0.952381           0.977778   \n",
       "2            0.882540           0.930159           0.955556   \n",
       "3            0.904762           1.000000           0.977778   \n",
       "4            0.882540           0.952381           0.955556   \n",
       "6            0.882540           0.952381           0.955556   \n",
       "8            0.904762           0.904762           0.977778   \n",
       "9            0.834921           0.952381           0.907937   \n",
       "7            0.834921           0.952381           0.907937   \n",
       "11           0.834921           0.857143           0.834921   \n",
       "12           0.834921           0.857143           0.765079   \n",
       "14           0.787302           0.809524           0.812698   \n",
       "13           0.765079           0.812698           0.765079   \n",
       "0            0.584127           0.669841           0.834921   \n",
       "10           0.588889           0.644444           0.622222   \n",
       "5            0.533333           0.644444           0.622222   \n",
       "\n",
       "    split7_test_score  split8_test_score  split9_test_score  mean_test_score  \\\n",
       "1            0.930159           0.907937           0.952381         0.952198   \n",
       "2            0.952381           0.907937           0.952381         0.947778   \n",
       "3            0.930159           0.907937           0.952381         0.947094   \n",
       "4            0.930159           0.907937           1.000000         0.946960   \n",
       "6            0.952381           0.930159           0.952381         0.941880   \n",
       "8            0.930159           0.930159           0.952381         0.927277   \n",
       "9            0.952381           0.930159           0.904762         0.922833   \n",
       "7            0.952381           0.930159           0.904762         0.920293   \n",
       "11           0.882540           0.834921           0.904762         0.876642   \n",
       "12           0.904762           0.834921           0.904762         0.862357   \n",
       "14           0.882540           0.834921           0.857143         0.857143   \n",
       "13           0.834921           0.739683           0.857143         0.812991   \n",
       "0            0.742857           0.882540           0.838095         0.739838   \n",
       "10           0.622222           0.644444           0.666667         0.613857   \n",
       "5            0.622222           0.644444           0.638889         0.605182   \n",
       "\n",
       "    std_test_score  rank_test_score  \n",
       "1         0.039902                1  \n",
       "2         0.034268                2  \n",
       "3         0.033797                3  \n",
       "4         0.047387                4  \n",
       "6         0.038905                5  \n",
       "8         0.043759                6  \n",
       "9         0.047883                7  \n",
       "7         0.045516                8  \n",
       "11        0.041618                9  \n",
       "12        0.046244               10  \n",
       "14        0.041000               11  \n",
       "13        0.044788               12  \n",
       "0         0.086685               13  \n",
       "10        0.031472               14  \n",
       "5         0.036480               15  "
      ]
     },
     "execution_count": 39,
     "metadata": {},
     "output_type": "execute_result"
    }
   ],
   "source": [
    "results_df.sort_values(\n",
    "    \"mean_test_score\", ascending=False)"
   ]
  },
  {
   "cell_type": "code",
   "execution_count": 67,
   "metadata": {},
   "outputs": [],
   "source": [
    "cv_cols = [col for col in results_df.columns if 'split' in col]"
   ]
  },
  {
   "cell_type": "code",
   "execution_count": 84,
   "metadata": {},
   "outputs": [
    {
     "data": {
      "text/plain": [
       "4"
      ]
     },
     "execution_count": 84,
     "metadata": {},
     "output_type": "execute_result"
    }
   ],
   "source": [
    "nn5_mask = results_df['param_classifier__n_neighbors'] == 5 \n",
    "nn51_mask = results_df['param_classifier__n_neighbors'] == 51 \n",
    "nn101_mask = results_df['param_classifier__n_neighbors'] == 101\n",
    "ss_mask = results_df['param_preprocessor'].apply(str) == 'StandardScaler()'\n",
    "\n",
    "diff_5nn_51_nn = results_df[nn5_mask & ss_mask][cv_cols].iloc[0] - results_df[nn51_mask & ss_mask][cv_cols].iloc[0]\n",
    "diff_5nn_51_nn.apply(lambda x:x>0).sum()"
   ]
  },
  {
   "cell_type": "code",
   "execution_count": 86,
   "metadata": {},
   "outputs": [
    {
     "data": {
      "text/plain": [
       "9"
      ]
     },
     "execution_count": 86,
     "metadata": {},
     "output_type": "execute_result"
    }
   ],
   "source": [
    "diff_51nn_101_nn = results_df[nn51_mask & ss_mask][cv_cols].iloc[0] - results_df[nn101_mask & ss_mask][cv_cols].iloc[0]\n",
    "diff_51nn_101_nn.apply(lambda x:x>0).sum()"
   ]
  },
  {
   "cell_type": "code",
   "execution_count": 87,
   "metadata": {},
   "outputs": [],
   "source": [
    "cv_results = cross_validate(model_grid_search, data, target, \n",
    "                            return_estimator=True, \n",
    "                            cv=10, \n",
    "                            scoring=\"balanced_accuracy\")"
   ]
  },
  {
   "cell_type": "code",
   "execution_count": 89,
   "metadata": {},
   "outputs": [],
   "source": [
    "cv_results_df = pd.DataFrame(cv_results)"
   ]
  },
  {
   "cell_type": "code",
   "execution_count": 92,
   "metadata": {},
   "outputs": [
    {
     "data": {
      "text/plain": [
       "0.9426495726495727"
      ]
     },
     "execution_count": 92,
     "metadata": {},
     "output_type": "execute_result"
    }
   ],
   "source": [
    "cv_results_df['test_score'].mean()"
   ]
  },
  {
   "cell_type": "code",
   "execution_count": 96,
   "metadata": {},
   "outputs": [
    {
     "data": {
      "text/plain": [
       "0    (5, QuantileTransformer(n_quantiles=100))\n",
       "1    (5, QuantileTransformer(n_quantiles=100))\n",
       "2                        (5, StandardScaler())\n",
       "3                        (5, StandardScaler())\n",
       "4                          (5, MinMaxScaler())\n",
       "5    (5, QuantileTransformer(n_quantiles=100))\n",
       "6                          (5, MinMaxScaler())\n",
       "7                        (5, StandardScaler())\n",
       "8                        (5, StandardScaler())\n",
       "9    (5, QuantileTransformer(n_quantiles=100))\n",
       "Name: estimator, dtype: object"
      ]
     },
     "execution_count": 96,
     "metadata": {},
     "output_type": "execute_result"
    }
   ],
   "source": [
    "cv_results_df['estimator'].apply(lambda x:x.best_params_.values())"
   ]
  }
 ],
 "metadata": {
  "interpreter": {
   "hash": "8a45449b750672ad458079aa0732cf0162efde481453de1f5ed812f43402b05f"
  },
  "kernelspec": {
   "display_name": "Python 3.10.2 ('scikit-learn-course')",
   "language": "python",
   "name": "python3"
  },
  "language_info": {
   "codemirror_mode": {
    "name": "ipython",
    "version": 3
   },
   "file_extension": ".py",
   "mimetype": "text/x-python",
   "name": "python",
   "nbconvert_exporter": "python",
   "pygments_lexer": "ipython3",
   "version": "3.10.2"
  },
  "orig_nbformat": 4
 },
 "nbformat": 4,
 "nbformat_minor": 2
}
