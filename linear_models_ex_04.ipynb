{
 "cells": [
  {
   "cell_type": "markdown",
   "metadata": {},
   "source": [
    "# 📝 Exercise M4.04\n",
    "\n",
    "In the previous notebook, we saw the effect of applying some regularization\n",
    "on the coefficient of a linear model.\n",
    "\n",
    "In this exercise, we will study the advantage of using some regularization\n",
    "when dealing with correlated features.\n",
    "\n",
    "We will first create a regression dataset. This dataset will contain 2,000\n",
    "samples and 5 features from which only 2 features will be informative."
   ]
  },
  {
   "cell_type": "code",
   "execution_count": 71,
   "metadata": {},
   "outputs": [],
   "source": [
    "from sklearn.datasets import make_regression\n",
    "\n",
    "data, target, coef = make_regression(\n",
    "    n_samples=2_000,\n",
    "    n_features=5,\n",
    "    n_informative=2,\n",
    "    shuffle=False,\n",
    "    coef=True,\n",
    "    random_state=0,\n",
    "    noise=30,\n",
    ")"
   ]
  },
  {
   "cell_type": "markdown",
   "metadata": {},
   "source": [
    "When creating the dataset, `make_regression` returns the true coefficient\n",
    "used to generate the dataset. Let's plot this information."
   ]
  },
  {
   "cell_type": "code",
   "execution_count": 72,
   "metadata": {},
   "outputs": [
    {
     "data": {
      "text/plain": [
       "Relevant feature #0     9.566665\n",
       "Relevant feature #1    40.192077\n",
       "Noisy feature #0        0.000000\n",
       "Noisy feature #1        0.000000\n",
       "Noisy feature #2        0.000000\n",
       "dtype: float64"
      ]
     },
     "execution_count": 72,
     "metadata": {},
     "output_type": "execute_result"
    },
    {
     "data": {
      "image/png": "[encoded data removed]",
      "text/plain": [
       "<Figure size 432x288 with 1 Axes>"
      ]
     },
     "metadata": {
      "needs_background": "light"
     },
     "output_type": "display_data"
    }
   ],
   "source": [
    "import pandas as pd\n",
    "\n",
    "feature_names = [\n",
    "    \"Relevant feature #0\",\n",
    "    \"Relevant feature #1\",\n",
    "    \"Noisy feature #0\",\n",
    "    \"Noisy feature #1\",\n",
    "    \"Noisy feature #2\",\n",
    "]\n",
    "coef = pd.Series(coef, index=feature_names)\n",
    "coef.plot.barh()\n",
    "coef"
   ]
  },
  {
   "cell_type": "markdown",
   "metadata": {},
   "source": [
    "Create a `LinearRegression` regressor and fit on the entire dataset and\n",
    "check the value of the coefficients. Are the coefficients of the linear\n",
    "regressor close to the coefficients used to generate the dataset?"
   ]
  },
  {
   "cell_type": "code",
   "execution_count": 73,
   "metadata": {},
   "outputs": [
    {
     "data": {
      "text/html": [
       "<div>\n",
       "<style scoped>\n",
       "    .dataframe tbody tr th:only-of-type {\n",
       "        vertical-align: middle;\n",
       "    }\n",
       "\n",
       "    .dataframe tbody tr th {\n",
       "        vertical-align: top;\n",
       "    }\n",
       "\n",
       "    .dataframe thead th {\n",
       "        text-align: right;\n",
       "    }\n",
       "</style>\n",
       "<table border=\"1\" class=\"dataframe\">\n",
       "  <thead>\n",
       "    <tr style=\"text-align: right;\">\n",
       "      <th></th>\n",
       "      <th>real_coef</th>\n",
       "      <th>model_coef</th>\n",
       "    </tr>\n",
       "  </thead>\n",
       "  <tbody>\n",
       "    <tr>\n",
       "      <th>Relevant feature #0</th>\n",
       "      <td>9.566665</td>\n",
       "      <td>10.895870</td>\n",
       "    </tr>\n",
       "    <tr>\n",
       "      <th>Relevant feature #1</th>\n",
       "      <td>40.192077</td>\n",
       "      <td>40.411280</td>\n",
       "    </tr>\n",
       "    <tr>\n",
       "      <th>Noisy feature #0</th>\n",
       "      <td>0.000000</td>\n",
       "      <td>-0.205425</td>\n",
       "    </tr>\n",
       "    <tr>\n",
       "      <th>Noisy feature #1</th>\n",
       "      <td>0.000000</td>\n",
       "      <td>-0.189545</td>\n",
       "    </tr>\n",
       "    <tr>\n",
       "      <th>Noisy feature #2</th>\n",
       "      <td>0.000000</td>\n",
       "      <td>0.111298</td>\n",
       "    </tr>\n",
       "  </tbody>\n",
       "</table>\n",
       "</div>"
      ],
      "text/plain": [
       "                     real_coef  model_coef\n",
       "Relevant feature #0   9.566665   10.895870\n",
       "Relevant feature #1  40.192077   40.411280\n",
       "Noisy feature #0      0.000000   -0.205425\n",
       "Noisy feature #1      0.000000   -0.189545\n",
       "Noisy feature #2      0.000000    0.111298"
      ]
     },
     "execution_count": 73,
     "metadata": {},
     "output_type": "execute_result"
    }
   ],
   "source": [
    "from sklearn.linear_model import LinearRegression\n",
    "lin_reg_model = LinearRegression()\n",
    "lin_reg_model.fit(data, target)\n",
    "\n",
    "model_coef = pd.Series(lin_reg_model.coef_, index=feature_names)\n",
    "\n",
    "df = pd.DataFrame([coef,model_coef]).T\n",
    "df.columns = ['real_coef', 'model_coef']\n",
    "df"
   ]
  },
  {
   "cell_type": "markdown",
   "metadata": {},
   "source": [
    "Now, create a new dataset that will be the same as `data` with 4 additional\n",
    "columns that will repeat twice features 0 and 1. This procedure will create\n",
    "perfectly correlated features."
   ]
  },
  {
   "cell_type": "code",
   "execution_count": 74,
   "metadata": {},
   "outputs": [],
   "source": [
    "data_df = pd.DataFrame(data)\n",
    "data_df[5] = data_df[0]\n",
    "data_df[6] = data_df[0]\n",
    "data_df[7] = data_df[1]\n",
    "data_df[8] = data_df[1]"
   ]
  },
  {
   "cell_type": "markdown",
   "metadata": {},
   "source": [
    "Fit again the linear regressor on this new dataset and check the\n",
    "coefficients. What do you observe?"
   ]
  },
  {
   "cell_type": "code",
   "execution_count": 75,
   "metadata": {},
   "outputs": [
    {
     "data": {
      "text/html": [
       "<div>\n",
       "<style scoped>\n",
       "    .dataframe tbody tr th:only-of-type {\n",
       "        vertical-align: middle;\n",
       "    }\n",
       "\n",
       "    .dataframe tbody tr th {\n",
       "        vertical-align: top;\n",
       "    }\n",
       "\n",
       "    .dataframe thead th {\n",
       "        text-align: right;\n",
       "    }\n",
       "</style>\n",
       "<table border=\"1\" class=\"dataframe\">\n",
       "  <thead>\n",
       "    <tr style=\"text-align: right;\">\n",
       "      <th></th>\n",
       "      <th>real_coef</th>\n",
       "      <th>model_coef</th>\n",
       "      <th>corr_model_coef</th>\n",
       "    </tr>\n",
       "  </thead>\n",
       "  <tbody>\n",
       "    <tr>\n",
       "      <th>Noisy feature #0</th>\n",
       "      <td>0.000000</td>\n",
       "      <td>-0.205425</td>\n",
       "      <td>-2.373047e-01</td>\n",
       "    </tr>\n",
       "    <tr>\n",
       "      <th>Noisy feature #1</th>\n",
       "      <td>0.000000</td>\n",
       "      <td>-0.189545</td>\n",
       "      <td>-1.879883e-01</td>\n",
       "    </tr>\n",
       "    <tr>\n",
       "      <th>Noisy feature #2</th>\n",
       "      <td>0.000000</td>\n",
       "      <td>0.111298</td>\n",
       "      <td>1.074219e-01</td>\n",
       "    </tr>\n",
       "    <tr>\n",
       "      <th>Relevant feature #0</th>\n",
       "      <td>9.566665</td>\n",
       "      <td>10.895870</td>\n",
       "      <td>9.128500e+11</td>\n",
       "    </tr>\n",
       "    <tr>\n",
       "      <th>Relevant feature #1</th>\n",
       "      <td>40.192077</td>\n",
       "      <td>40.411280</td>\n",
       "      <td>-1.658404e+14</td>\n",
       "    </tr>\n",
       "    <tr>\n",
       "      <th>feature #0b</th>\n",
       "      <td>NaN</td>\n",
       "      <td>NaN</td>\n",
       "      <td>-4.564250e+11</td>\n",
       "    </tr>\n",
       "    <tr>\n",
       "      <th>feature #0c</th>\n",
       "      <td>NaN</td>\n",
       "      <td>NaN</td>\n",
       "      <td>-4.564250e+11</td>\n",
       "    </tr>\n",
       "    <tr>\n",
       "      <th>feature #1b</th>\n",
       "      <td>NaN</td>\n",
       "      <td>NaN</td>\n",
       "      <td>8.292019e+13</td>\n",
       "    </tr>\n",
       "    <tr>\n",
       "      <th>feature #1c</th>\n",
       "      <td>NaN</td>\n",
       "      <td>NaN</td>\n",
       "      <td>8.292019e+13</td>\n",
       "    </tr>\n",
       "  </tbody>\n",
       "</table>\n",
       "</div>"
      ],
      "text/plain": [
       "                     real_coef  model_coef  corr_model_coef\n",
       "Noisy feature #0      0.000000   -0.205425    -2.373047e-01\n",
       "Noisy feature #1      0.000000   -0.189545    -1.879883e-01\n",
       "Noisy feature #2      0.000000    0.111298     1.074219e-01\n",
       "Relevant feature #0   9.566665   10.895870     9.128500e+11\n",
       "Relevant feature #1  40.192077   40.411280    -1.658404e+14\n",
       "feature #0b                NaN         NaN    -4.564250e+11\n",
       "feature #0c                NaN         NaN    -4.564250e+11\n",
       "feature #1b                NaN         NaN     8.292019e+13\n",
       "feature #1c                NaN         NaN     8.292019e+13"
      ]
     },
     "execution_count": 75,
     "metadata": {},
     "output_type": "execute_result"
    }
   ],
   "source": [
    "lin_reg_model_corr = LinearRegression()\n",
    "lin_reg_model_corr.fit(data_df, target)\n",
    "\n",
    "feature_names.extend(['feature #0b','feature #0c','feature #1b','feature #1c'])\n",
    "corr_model_coef = pd.Series(lin_reg_model_corr.coef_, index=feature_names, name='corr_model_coef')\n",
    "df = df.join(corr_model_coef, how='outer')\n",
    "df"
   ]
  },
  {
   "cell_type": "markdown",
   "metadata": {},
   "source": [
    "Create a ridge regressor and fit on the same dataset. Check the coefficients.\n",
    "What do you observe?"
   ]
  },
  {
   "cell_type": "markdown",
   "id": "f40c3f17",
   "metadata": {},
   "source": [
    "- Large coefficients that are very different from eachother for the same features"
   ]
  },
  {
   "cell_type": "code",
   "execution_count": 76,
   "metadata": {},
   "outputs": [
    {
     "data": {
      "text/html": [
       "<div>\n",
       "<style scoped>\n",
       "    .dataframe tbody tr th:only-of-type {\n",
       "        vertical-align: middle;\n",
       "    }\n",
       "\n",
       "    .dataframe tbody tr th {\n",
       "        vertical-align: top;\n",
       "    }\n",
       "\n",
       "    .dataframe thead th {\n",
       "        text-align: right;\n",
       "    }\n",
       "</style>\n",
       "<table border=\"1\" class=\"dataframe\">\n",
       "  <thead>\n",
       "    <tr style=\"text-align: right;\">\n",
       "      <th></th>\n",
       "      <th>real_coef</th>\n",
       "      <th>model_coef</th>\n",
       "      <th>corr_model_coef</th>\n",
       "      <th>ridge_model_coef</th>\n",
       "    </tr>\n",
       "  </thead>\n",
       "  <tbody>\n",
       "    <tr>\n",
       "      <th>Noisy feature #0</th>\n",
       "      <td>0.000000</td>\n",
       "      <td>-0.205425</td>\n",
       "      <td>-2.373047e-01</td>\n",
       "      <td>-0.205493</td>\n",
       "    </tr>\n",
       "    <tr>\n",
       "      <th>Noisy feature #1</th>\n",
       "      <td>0.000000</td>\n",
       "      <td>-0.189545</td>\n",
       "      <td>-1.879883e-01</td>\n",
       "      <td>-0.189300</td>\n",
       "    </tr>\n",
       "    <tr>\n",
       "      <th>Noisy feature #2</th>\n",
       "      <td>0.000000</td>\n",
       "      <td>0.111298</td>\n",
       "      <td>1.074219e-01</td>\n",
       "      <td>0.111172</td>\n",
       "    </tr>\n",
       "    <tr>\n",
       "      <th>Relevant feature #0</th>\n",
       "      <td>9.566665</td>\n",
       "      <td>10.895870</td>\n",
       "      <td>9.128500e+11</td>\n",
       "      <td>3.631393</td>\n",
       "    </tr>\n",
       "    <tr>\n",
       "      <th>Relevant feature #1</th>\n",
       "      <td>40.192077</td>\n",
       "      <td>40.411280</td>\n",
       "      <td>-1.658404e+14</td>\n",
       "      <td>13.468021</td>\n",
       "    </tr>\n",
       "    <tr>\n",
       "      <th>feature #0b</th>\n",
       "      <td>NaN</td>\n",
       "      <td>NaN</td>\n",
       "      <td>-4.564250e+11</td>\n",
       "      <td>3.631393</td>\n",
       "    </tr>\n",
       "    <tr>\n",
       "      <th>feature #0c</th>\n",
       "      <td>NaN</td>\n",
       "      <td>NaN</td>\n",
       "      <td>-4.564250e+11</td>\n",
       "      <td>3.631393</td>\n",
       "    </tr>\n",
       "    <tr>\n",
       "      <th>feature #1b</th>\n",
       "      <td>NaN</td>\n",
       "      <td>NaN</td>\n",
       "      <td>8.292019e+13</td>\n",
       "      <td>13.468021</td>\n",
       "    </tr>\n",
       "    <tr>\n",
       "      <th>feature #1c</th>\n",
       "      <td>NaN</td>\n",
       "      <td>NaN</td>\n",
       "      <td>8.292019e+13</td>\n",
       "      <td>13.468021</td>\n",
       "    </tr>\n",
       "  </tbody>\n",
       "</table>\n",
       "</div>"
      ],
      "text/plain": [
       "                     real_coef  model_coef  corr_model_coef  ridge_model_coef\n",
       "Noisy feature #0      0.000000   -0.205425    -2.373047e-01         -0.205493\n",
       "Noisy feature #1      0.000000   -0.189545    -1.879883e-01         -0.189300\n",
       "Noisy feature #2      0.000000    0.111298     1.074219e-01          0.111172\n",
       "Relevant feature #0   9.566665   10.895870     9.128500e+11          3.631393\n",
       "Relevant feature #1  40.192077   40.411280    -1.658404e+14         13.468021\n",
       "feature #0b                NaN         NaN    -4.564250e+11          3.631393\n",
       "feature #0c                NaN         NaN    -4.564250e+11          3.631393\n",
       "feature #1b                NaN         NaN     8.292019e+13         13.468021\n",
       "feature #1c                NaN         NaN     8.292019e+13         13.468021"
      ]
     },
     "execution_count": 76,
     "metadata": {},
     "output_type": "execute_result"
    }
   ],
   "source": [
    "from sklearn.linear_model import Ridge\n",
    "\n",
    "ridge_model = Ridge()\n",
    "ridge_model.fit(data_df, target)\n",
    "\n",
    "ridge_coef = pd.Series(ridge_model.coef_, index=feature_names, name='ridge_model_coef')\n",
    "\n",
    "df = df.join(ridge_coef, how='outer')\n",
    "df"
   ]
  },
  {
   "cell_type": "markdown",
   "metadata": {},
   "source": [
    "Can you find the relationship between the ridge coefficients and the original\n",
    "coefficients?"
   ]
  },
  {
   "cell_type": "code",
   "execution_count": 77,
   "metadata": {},
   "outputs": [
    {
     "data": {
      "text/html": [
       "<div>\n",
       "<style scoped>\n",
       "    .dataframe tbody tr th:only-of-type {\n",
       "        vertical-align: middle;\n",
       "    }\n",
       "\n",
       "    .dataframe tbody tr th {\n",
       "        vertical-align: top;\n",
       "    }\n",
       "\n",
       "    .dataframe thead th {\n",
       "        text-align: right;\n",
       "    }\n",
       "</style>\n",
       "<table border=\"1\" class=\"dataframe\">\n",
       "  <thead>\n",
       "    <tr style=\"text-align: right;\">\n",
       "      <th></th>\n",
       "      <th>real_coef</th>\n",
       "      <th>ridge_model_coef</th>\n",
       "    </tr>\n",
       "  </thead>\n",
       "  <tbody>\n",
       "    <tr>\n",
       "      <th>Relevant feature #0</th>\n",
       "      <td>9.566665</td>\n",
       "      <td>3.631393</td>\n",
       "    </tr>\n",
       "    <tr>\n",
       "      <th>feature #0b</th>\n",
       "      <td>NaN</td>\n",
       "      <td>3.631393</td>\n",
       "    </tr>\n",
       "    <tr>\n",
       "      <th>feature #0c</th>\n",
       "      <td>NaN</td>\n",
       "      <td>3.631393</td>\n",
       "    </tr>\n",
       "    <tr>\n",
       "      <th>Relevant feature #1</th>\n",
       "      <td>40.192077</td>\n",
       "      <td>13.468021</td>\n",
       "    </tr>\n",
       "    <tr>\n",
       "      <th>feature #1b</th>\n",
       "      <td>NaN</td>\n",
       "      <td>13.468021</td>\n",
       "    </tr>\n",
       "    <tr>\n",
       "      <th>feature #1c</th>\n",
       "      <td>NaN</td>\n",
       "      <td>13.468021</td>\n",
       "    </tr>\n",
       "  </tbody>\n",
       "</table>\n",
       "</div>"
      ],
      "text/plain": [
       "                     real_coef  ridge_model_coef\n",
       "Relevant feature #0   9.566665          3.631393\n",
       "feature #0b                NaN          3.631393\n",
       "feature #0c                NaN          3.631393\n",
       "Relevant feature #1  40.192077         13.468021\n",
       "feature #1b                NaN         13.468021\n",
       "feature #1c                NaN         13.468021"
      ]
     },
     "execution_count": 77,
     "metadata": {},
     "output_type": "execute_result"
    }
   ],
   "source": [
    "df.loc[['Relevant feature #0', 'feature #0b',\n",
    "       'feature #0c', 'Relevant feature #1', 'feature #1b', 'feature #1c'], ['real_coef', 'ridge_model_coef']]"
   ]
  },
  {
   "cell_type": "markdown",
   "id": "2b5086bf",
   "metadata": {},
   "source": [
    "for the ridge model the correlated features sum to the original coefficients i.e. they are divided amongst the 3 repeated columns"
   ]
  },
  {
   "cell_type": "code",
   "execution_count": 78,
   "id": "10159b26",
   "metadata": {},
   "outputs": [
    {
     "data": {
      "text/html": [
       "<div>\n",
       "<style scoped>\n",
       "    .dataframe tbody tr th:only-of-type {\n",
       "        vertical-align: middle;\n",
       "    }\n",
       "\n",
       "    .dataframe tbody tr th {\n",
       "        vertical-align: top;\n",
       "    }\n",
       "\n",
       "    .dataframe thead th {\n",
       "        text-align: right;\n",
       "    }\n",
       "</style>\n",
       "<table border=\"1\" class=\"dataframe\">\n",
       "  <thead>\n",
       "    <tr style=\"text-align: right;\">\n",
       "      <th></th>\n",
       "      <th>real_coef</th>\n",
       "      <th>ridge_model_coef</th>\n",
       "    </tr>\n",
       "  </thead>\n",
       "  <tbody>\n",
       "    <tr>\n",
       "      <th>0</th>\n",
       "      <td>9.566665</td>\n",
       "      <td>10.894180</td>\n",
       "    </tr>\n",
       "    <tr>\n",
       "      <th>1</th>\n",
       "      <td>40.192077</td>\n",
       "      <td>40.404063</td>\n",
       "    </tr>\n",
       "  </tbody>\n",
       "</table>\n",
       "</div>"
      ],
      "text/plain": [
       "   real_coef  ridge_model_coef\n",
       "0   9.566665         10.894180\n",
       "1  40.192077         40.404063"
      ]
     },
     "execution_count": 78,
     "metadata": {},
     "output_type": "execute_result"
    }
   ],
   "source": [
    "feat_0= df.loc[[rw for rw in df.index if '#0' in rw and not 'Noisy' in rw],  ['real_coef', 'ridge_model_coef']].sum()\n",
    "feat_1= df.loc[[rw for rw in df.index if '#1' in rw and not 'Noisy' in rw],  ['real_coef', 'ridge_model_coef']].sum()\n",
    "pd.DataFrame([feat_0, feat_1])"
   ]
  }
 ],
 "metadata": {
  "jupytext": {
   "main_language": "python"
  },
  "kernelspec": {
   "display_name": "Python 3",
   "name": "python3"
  },
  "language_info": {
   "codemirror_mode": {
    "name": "ipython",
    "version": 3
   },
   "file_extension": ".py",
   "mimetype": "text/x-python",
   "name": "python",
   "nbconvert_exporter": "python",
   "pygments_lexer": "ipython3",
   "version": "3.10.2"
  }
 },
 "nbformat": 4,
 "nbformat_minor": 5
}
